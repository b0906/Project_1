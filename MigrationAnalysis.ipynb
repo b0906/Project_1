{
 "cells": [
  {
   "cell_type": "markdown",
   "id": "8d006df1",
   "metadata": {},
   "source": [
    "# Hypothesis \n",
    "## We believe the migration is driving the housing prices in the states.\n",
    "### We see the opposite of it according to the data.\n",
    "\n",
    "# Analysis\n",
    "\n",
    "## Population is changing faster than the available housing.\n",
    "### Based on the data the change is not too significant. Housing and Population numbers are incresaing in parallel.\n",
    "\n",
    "## Housing costs is following the change in population in the state and vice versa.\n",
    "### This is not true for all the states, only few states saw the increase in housing costs as popultaion increases.\n",
    "\n",
    "## Is there a relationship between migration and house prices?\n",
    "### When you consider the data for entire US for last decade this can't be proven but few states has house prices go up as net migration increased.\n",
    "\n",
    "## At the end find the top 10 states and bottom 10 states with people moving in based on housing.\n",
    "### Based on our Analysis Idaho has highest migration rate and highest housing cost change for the decade.\n",
    "### Alaska has the least migration rate for the decade.\n",
    "\n"
   ]
  },
  {
   "cell_type": "code",
   "execution_count": null,
   "id": "a5e3e6f5",
   "metadata": {},
   "outputs": [],
   "source": [
    "import pandas as pd\n",
    "import numpy as np\n",
    "import scipy.stats as stats\n",
    "import matplotlib.pyplot as plt"
   ]
  },
  {
   "cell_type": "code",
   "execution_count": null,
   "id": "ccdb5f24",
   "metadata": {},
   "outputs": [],
   "source": [
    "filepath = \"Resources/final_data.csv\""
   ]
  },
  {
   "cell_type": "code",
   "execution_count": null,
   "id": "a81a6baa",
   "metadata": {},
   "outputs": [],
   "source": [
    "total_df = pd.read_csv(filepath)"
   ]
  },
  {
   "cell_type": "code",
   "execution_count": null,
   "id": "2aa8a0eb",
   "metadata": {},
   "outputs": [],
   "source": [
    "pd.set_option('display.max_columns', 50)"
   ]
  },
  {
   "cell_type": "code",
   "execution_count": null,
   "id": "1443fbbb",
   "metadata": {},
   "outputs": [],
   "source": [
    "total_df"
   ]
  },
  {
   "cell_type": "markdown",
   "id": "36107ed8",
   "metadata": {},
   "source": [
    "## First we calculate how much the U.S is growing as a whole with and without migration "
   ]
  },
  {
   "cell_type": "code",
   "execution_count": null,
   "id": "d6f8ba4b",
   "metadata": {},
   "outputs": [],
   "source": [
    "# Make a dataframe to compute the annual changes\n",
    "us_totals_df = pd.DataFrame({'Year' : range(2010,2020)})"
   ]
  },
  {
   "cell_type": "code",
   "execution_count": null,
   "id": "c237694f",
   "metadata": {},
   "outputs": [],
   "source": [
    "# Total population per year\n",
    "us_total_population = total_df[['POPESTIMATE2010','POPESTIMATE2011','POPESTIMATE2012','POPESTIMATE2013','POPESTIMATE2014','POPESTIMATE2015','POPESTIMATE2016','POPESTIMATE2017','POPESTIMATE2018','POPESTIMATE2019']].sum()\n",
    "total_population =  us_total_population.to_list()"
   ]
  },
  {
   "cell_type": "code",
   "execution_count": null,
   "id": "7038bc95",
   "metadata": {},
   "outputs": [],
   "source": [
    "# Create a list of the total number of houses in the U.S per year\n",
    "us_houses_by_year = total_df[['HUESTIMATE2010','HUESTIMATE2011','HUESTIMATE2012','HUESTIMATE2013','HUESTIMATE2014','HUESTIMATE2015','HUESTIMATE2016','HUESTIMATE2017','HUESTIMATE2018','HUESTIMATE2019']].sum()\n",
    "total_houses =  us_houses_by_year.to_list()"
   ]
  },
  {
   "cell_type": "code",
   "execution_count": null,
   "id": "f68b5fab",
   "metadata": {},
   "outputs": [],
   "source": [
    "# Create a list of the total number of migrants in the U.S per year\n",
    "us_migrants_by_year = total_df[['NETMIG2010','NETMIG2011','NETMIG2012','NETMIG2013','NETMIG2014','NETMIG2015','NETMIG2016','NETMIG2017','NETMIG2018','NETMIG2019']].sum()\n",
    "us_migrants = us_migrants_by_year.to_list()"
   ]
  },
  {
   "cell_type": "code",
   "execution_count": null,
   "id": "77fdf8ae",
   "metadata": {},
   "outputs": [],
   "source": [
    "# Create a list of annual means for the whole country's housing cost per year\n",
    "us_mean_house_cost_by_year = total_df[['2010 Mean Housing','2011 Mean Housing','2012 Mean Housing','2013 Mean Housing','2014 Mean Housing','2015 Mean Housing','2016 Mean Housing','2017 Mean Housing','2018 Mean Housing','2019 Mean Housing']].mean()\n",
    "mean_house_value = us_mean_house_cost_by_year.to_list()"
   ]
  },
  {
   "cell_type": "code",
   "execution_count": null,
   "id": "9aa2ea8e",
   "metadata": {},
   "outputs": [],
   "source": [
    "# Populate table with the data\n",
    "us_totals_df['Total Population per Year'] = total_population\n",
    "us_totals_df['Total Houses per Year'] = total_houses\n",
    "us_totals_df['Total Migrants per Year'] = us_migrants"
   ]
  },
  {
   "cell_type": "code",
   "execution_count": null,
   "id": "37036a07",
   "metadata": {},
   "outputs": [],
   "source": [
    "us_totals_df"
   ]
  },
  {
   "cell_type": "code",
   "execution_count": null,
   "id": "b9d4a383",
   "metadata": {},
   "outputs": [],
   "source": [
    "us_totals_df['Total Base Population per Year'] = us_totals_df['Total Population per Year'] - us_totals_df['Total Migrants per Year']"
   ]
  },
  {
   "cell_type": "code",
   "execution_count": null,
   "id": "4034ea47",
   "metadata": {},
   "outputs": [],
   "source": [
    "us_totals_df['Mean Housing Cost per Year'] = mean_house_value"
   ]
  },
  {
   "cell_type": "code",
   "execution_count": null,
   "id": "27895e81",
   "metadata": {},
   "outputs": [],
   "source": [
    "#us_totals_df"
   ]
  },
  {
   "cell_type": "code",
   "execution_count": null,
   "id": "991d5456",
   "metadata": {},
   "outputs": [],
   "source": [
    "\n",
    "us_totals_df['Houses per Capita'] = us_totals_df['Total Houses per Year']/us_totals_df['Total Population per Year']"
   ]
  },
  {
   "cell_type": "code",
   "execution_count": null,
   "id": "8a0bfbe4",
   "metadata": {},
   "outputs": [],
   "source": [
    "#us_totals_df"
   ]
  },
  {
   "cell_type": "code",
   "execution_count": null,
   "id": "2f62a443",
   "metadata": {},
   "outputs": [],
   "source": [
    "# Using small data numbers from https://www.statista.com/statistics/183657/average-size-of-a-family-in-the-us/\n",
    "us_totals_df['Average Family Size'] = [3.16, 3.18, 3.13, 3.12, 3.13, 3.14, 3.14, 3.14, 3.14, 3.14]\n",
    "#us_totals_df"
   ]
  },
  {
   "cell_type": "code",
   "execution_count": null,
   "id": "a2bda51f",
   "metadata": {},
   "outputs": [],
   "source": [
    "# Calculate the number of houses available for the average family using available houses per person times the number of people\n",
    "us_totals_df['Houses per Family'] = us_totals_df['Houses per Capita'] * us_totals_df['Average Family Size']\n",
    "#us_totals_df.set_index('Year', inplace=True)\n",
    "#us_totals_df"
   ]
  },
  {
   "cell_type": "code",
   "execution_count": null,
   "id": "a34cad1b",
   "metadata": {},
   "outputs": [],
   "source": [
    "us_totals_df['Percent Total Migration'] = us_totals_df['Total Migrants per Year']/us_totals_df['Total Population per Year']"
   ]
  },
  {
   "cell_type": "code",
   "execution_count": null,
   "id": "5f6275c2",
   "metadata": {
    "scrolled": true
   },
   "outputs": [],
   "source": [
    "us_totals_df"
   ]
  },
  {
   "cell_type": "markdown",
   "id": "9c0a3d5b",
   "metadata": {},
   "source": [
    "# Gather summary data for the US"
   ]
  },
  {
   "cell_type": "code",
   "execution_count": null,
   "id": "9a609153",
   "metadata": {},
   "outputs": [],
   "source": [
    "us_total_migration = us_totals_df['Total Migrants per Year'].sum()\n",
    "us_total_migration"
   ]
  },
  {
   "cell_type": "code",
   "execution_count": null,
   "id": "cdf5c0a1",
   "metadata": {},
   "outputs": [],
   "source": [
    "us_total_mean_migration = us_totals_df['Total Migrants per Year'].sum()/51\n",
    "us_total_mean_migration"
   ]
  },
  {
   "cell_type": "code",
   "execution_count": null,
   "id": "36fd442b",
   "metadata": {},
   "outputs": [],
   "source": [
    "# Migration percent of total growth\n",
    "us_total_pop_change = (us_totals_df['Total Population per Year'].max() - us_totals_df['Total Population per Year'].min())\n",
    "us_total_pop_change"
   ]
  },
  {
   "cell_type": "code",
   "execution_count": null,
   "id": "9f312c32",
   "metadata": {},
   "outputs": [],
   "source": [
    "us_migration_percentage_of_growth = us_total_migration/us_total_pop_change\n",
    "us_migration_percentage_of_growth"
   ]
  },
  {
   "cell_type": "code",
   "execution_count": null,
   "id": "3d64d663",
   "metadata": {},
   "outputs": [],
   "source": [
    "us_change_in_housing_cost = us_totals_df.iloc[ 9 ,4] - us_totals_df.iloc[ 0 ,4]\n",
    "us_change_in_housing_cost"
   ]
  },
  {
   "cell_type": "code",
   "execution_count": null,
   "id": "83c7bd59",
   "metadata": {},
   "outputs": [],
   "source": [
    "us_percent_change_in_house_cost = us_change_in_housing_cost/us_totals_df.iloc[ 0 ,4]\n",
    "us_percent_change_in_house_cost"
   ]
  },
  {
   "cell_type": "code",
   "execution_count": null,
   "id": "f6500e30",
   "metadata": {},
   "outputs": [],
   "source": [
    "# Create a new Dataframe of changes\n",
    "us_changes_df = pd.DataFrame({'Year' : range(2010,2020)})\n",
    "#us_changes_df"
   ]
  },
  {
   "cell_type": "code",
   "execution_count": null,
   "id": "4845f98f",
   "metadata": {},
   "outputs": [],
   "source": [
    "# Populate the changes dataframe\n",
    "us_changes_df['Base Population Change'] = us_totals_df['Total Base Population per Year'].diff().tolist()\n",
    "us_changes_df['Change in Houses per Year'] = us_totals_df['Total Houses per Year'].diff().tolist()\n",
    "us_changes_df['Change in Houses Cost per Year'] = us_totals_df['Mean Housing Cost per Year'].diff().tolist()\n",
    "us_changes_df['Change in Migration per Year'] = us_totals_df['Total Migrants per Year'].diff().tolist()\n",
    "us_changes_df['Change in Houses per Capita'] = us_totals_df['Houses per Capita'].diff().tolist()"
   ]
  },
  {
   "cell_type": "code",
   "execution_count": null,
   "id": "a5e6f8fb",
   "metadata": {
    "scrolled": true
   },
   "outputs": [],
   "source": [
    "us_changes_df"
   ]
  },
  {
   "cell_type": "code",
   "execution_count": null,
   "id": "6dd0704d",
   "metadata": {},
   "outputs": [],
   "source": [
    "us_percent_change_df = pd.DataFrame({'Year' : range(2010,2020)})"
   ]
  },
  {
   "cell_type": "code",
   "execution_count": null,
   "id": "8530b502",
   "metadata": {},
   "outputs": [],
   "source": [
    "us_percent_change_df['Base Population Change'] = us_totals_df['Total Base Population per Year'].pct_change().tolist()\n",
    "us_percent_change_df['Change in Houses per Year'] = us_totals_df['Total Houses per Year'].pct_change().tolist()\n",
    "us_percent_change_df['Change in Houses Cost per Year'] = us_totals_df['Mean Housing Cost per Year'].pct_change().tolist()\n",
    "us_percent_change_df['Change in Migration per Year'] = us_totals_df['Total Migrants per Year'].pct_change().tolist()\n",
    "us_percent_change_df['Change in Houses per Capita'] = us_totals_df['Houses per Capita'].pct_change().tolist()"
   ]
  },
  {
   "cell_type": "code",
   "execution_count": null,
   "id": "add0c1bf",
   "metadata": {},
   "outputs": [],
   "source": [
    "us_percent_change_df"
   ]
  },
  {
   "cell_type": "markdown",
   "id": "899b6131",
   "metadata": {},
   "source": [
    "## Look at the changes from year to year for each state and compare to the U.S. as a whole"
   ]
  },
  {
   "cell_type": "markdown",
   "id": "c6652e72",
   "metadata": {},
   "source": [
    "##  First we look at each state's total migration over the ten years"
   ]
  },
  {
   "cell_type": "code",
   "execution_count": null,
   "id": "2f0b760f",
   "metadata": {},
   "outputs": [],
   "source": [
    "state_migration_rates = pd.DataFrame({ 'State' : total_df['State'] })"
   ]
  },
  {
   "cell_type": "code",
   "execution_count": null,
   "id": "378404d5",
   "metadata": {},
   "outputs": [],
   "source": [
    "state_migration_rates = state_migration_rates.join(total_df[['NETMIG2010', 'NETMIG2011', 'NETMIG2012', 'NETMIG2013', 'NETMIG2014'\n",
    "                     , 'NETMIG2015', 'NETMIG2016', 'NETMIG2017', 'NETMIG2018', 'NETMIG2019']] )\n",
    "state_migration_rates"
   ]
  },
  {
   "cell_type": "code",
   "execution_count": null,
   "id": "88a088dd",
   "metadata": {},
   "outputs": [],
   "source": [
    "state_migration_rates = state_migration_rates.join(total_df[['POPESTIMATE2010','POPESTIMATE2011','POPESTIMATE2012','POPESTIMATE2013','POPESTIMATE2014','POPESTIMATE2015','POPESTIMATE2016','POPESTIMATE2017','POPESTIMATE2018','POPESTIMATE2019']])\n",
    "\n",
    "state_migration_rates"
   ]
  },
  {
   "cell_type": "code",
   "execution_count": null,
   "id": "ffea22b8",
   "metadata": {},
   "outputs": [],
   "source": [
    "for year in range(2010,2020):\n",
    "    state_migration_rates[f'{year} Percent Migration'] = state_migration_rates[f'NETMIG{year}']/state_migration_rates[f'POPESTIMATE{year}']"
   ]
  },
  {
   "cell_type": "code",
   "execution_count": null,
   "id": "3efc3795",
   "metadata": {},
   "outputs": [],
   "source": [
    "state_migration_rates"
   ]
  },
  {
   "cell_type": "markdown",
   "id": "4412dbf9",
   "metadata": {},
   "source": [
    "# Now looking at Housing"
   ]
  },
  {
   "cell_type": "code",
   "execution_count": null,
   "id": "4b33caa1",
   "metadata": {},
   "outputs": [],
   "source": [
    "state_housing_cost_changes = pd.DataFrame({ 'State' : total_df['State'] })"
   ]
  },
  {
   "cell_type": "code",
   "execution_count": null,
   "id": "b0322817",
   "metadata": {},
   "outputs": [],
   "source": [
    "state_housing_cost_changes = state_housing_cost_changes.join(total_df[['2010 Mean Housing','2011 Mean Housing','2012 Mean Housing','2013 Mean Housing'\n",
    "                         ,'2014 Mean Housing','2015 Mean Housing','2016 Mean Housing','2017 Mean Housing','2018 Mean Housing'\n",
    "                         ,'2019 Mean Housing']])\n",
    "#state_housing_cost_changes"
   ]
  },
  {
   "cell_type": "code",
   "execution_count": null,
   "id": "fa872d9d",
   "metadata": {},
   "outputs": [],
   "source": [
    "for year in range(2011,2020):\n",
    "    state_housing_cost_changes[f'{year} Percent Housing Cost Change'] = state_housing_cost_changes[f'{year} Mean Housing']/state_housing_cost_changes[f'{year - 1} Mean Housing'] - 1\n"
   ]
  },
  {
   "cell_type": "code",
   "execution_count": null,
   "id": "aaff01d4",
   "metadata": {},
   "outputs": [],
   "source": [
    "state_housing_cost_changes"
   ]
  },
  {
   "cell_type": "markdown",
   "id": "40b3c5aa",
   "metadata": {},
   "source": [
    "## Data plots"
   ]
  },
  {
   "cell_type": "code",
   "execution_count": null,
   "id": "f3767b84",
   "metadata": {},
   "outputs": [],
   "source": [
    "us_totals_df = us_totals_df.reset_index(level=0)\n",
    "us_totals_df"
   ]
  },
  {
   "cell_type": "code",
   "execution_count": null,
   "id": "823d8411",
   "metadata": {},
   "outputs": [],
   "source": [
    "#us_totals_df\n",
    "us_totals = us_totals_df[[\"Year\",\"Total Base Population per Year\",\"Total Migrants per Year\"]]\n",
    "us_totals = us_totals.set_index(\"Year\")\n",
    "us_totals"
   ]
  },
  {
   "cell_type": "code",
   "execution_count": null,
   "id": "d0f29fa7",
   "metadata": {},
   "outputs": [],
   "source": [
    "#Bar graph\n",
    "#How much of population growth is from migration\n",
    "us_totals.plot(kind=\"bar\")\n",
    "\n",
    "# Set a title for the chart\n",
    "plt.title(\"Total Popluation vs Total Migrations per year \")\n",
    "plt.tight_layout()\n",
    "plt.show()"
   ]
  },
  {
   "cell_type": "code",
   "execution_count": null,
   "id": "7a5aea51",
   "metadata": {},
   "outputs": [],
   "source": [
    "#Total Popluation Vs Total Migrations per State\n"
   ]
  },
  {
   "cell_type": "code",
   "execution_count": null,
   "id": "a2226494",
   "metadata": {},
   "outputs": [],
   "source": [
    "Us_State= total_df[['State','POPESTIMATE2010','POPESTIMATE2011','POPESTIMATE2012','POPESTIMATE2013','POPESTIMATE2014','POPESTIMATE2015','POPESTIMATE2016','POPESTIMATE2017','POPESTIMATE2018','POPESTIMATE2019','NETMIG2010','NETMIG2011','NETMIG2012','NETMIG2013','NETMIG2014','NETMIG2015','NETMIG2016','NETMIG2017','NETMIG2018','NETMIG2019','HUESTIMATE2010','HUESTIMATE2011','HUESTIMATE2012','HUESTIMATE2013','HUESTIMATE2014','HUESTIMATE2015','HUESTIMATE2016','HUESTIMATE2017','HUESTIMATE2018','HUESTIMATE2019']]\n",
    "Us_State = Us_State.set_index(\"State\")\n",
    "Pop_list = ['POPESTIMATE2010','POPESTIMATE2011','POPESTIMATE2012','POPESTIMATE2013','POPESTIMATE2014','POPESTIMATE2015','POPESTIMATE2016','POPESTIMATE2017','POPESTIMATE2018','POPESTIMATE2019']\n",
    "Mig_list = ['NETMIG2010','NETMIG2011','NETMIG2012','NETMIG2013','NETMIG2014','NETMIG2015','NETMIG2016','NETMIG2017','NETMIG2018','NETMIG2019']\n",
    "House_list = ['HUESTIMATE2010','HUESTIMATE2011','HUESTIMATE2012','HUESTIMATE2013','HUESTIMATE2014','HUESTIMATE2015','HUESTIMATE2016','HUESTIMATE2017','HUESTIMATE2018','HUESTIMATE2019']\n",
    "Us_State['Total_Population_Per_State']=Us_State[Pop_list].sum(axis=1)\n",
    "Us_State['Total_Migration_Per_State']=Us_State[Mig_list].sum(axis=1)\n",
    "Us_State['Mean_House_Cost_Per_State']=Us_State[House_list].mean(axis=1)"
   ]
  },
  {
   "cell_type": "code",
   "execution_count": null,
   "id": "b7739dac",
   "metadata": {},
   "outputs": [],
   "source": [
    "Us_State = Us_State.reset_index(level=0)"
   ]
  },
  {
   "cell_type": "code",
   "execution_count": null,
   "id": "e38b9961",
   "metadata": {},
   "outputs": [],
   "source": [
    "us_states_totals = Us_State[[\"State\",\"Total_Population_Per_State\",\"Total_Migration_Per_State\"]]\n",
    "us_states_totals = us_states_totals.set_index(\"State\")"
   ]
  },
  {
   "cell_type": "code",
   "execution_count": null,
   "id": "f4a79cda",
   "metadata": {},
   "outputs": [],
   "source": [
    "#Bar graph\n",
    "#per state total poplution and Migrtaion\n",
    "us_states_totals.plot(kind=\"line\", figsize=(20,5))\n",
    "\n",
    "# Set a title for the chart\n",
    "plt.title(\"Total Popluation and Total Migrations per State \")\n",
    "plt.tight_layout()\n",
    "plt.show()"
   ]
  },
  {
   "cell_type": "code",
   "execution_count": null,
   "id": "8727a393",
   "metadata": {},
   "outputs": [],
   "source": [
    "Us_State = Us_State.reset_index(level=0)"
   ]
  },
  {
   "cell_type": "code",
   "execution_count": null,
   "id": "63de785a",
   "metadata": {},
   "outputs": [],
   "source": [
    "us_states_house_costs = Us_State[[\"State\",\"Total_Migration_Per_State\",\"Mean_House_Cost_Per_State\"]]\n",
    "us_states_house_costs = us_states_house_costs.set_index(\"State\")"
   ]
  },
  {
   "cell_type": "code",
   "execution_count": null,
   "id": "4fe4d465",
   "metadata": {},
   "outputs": [],
   "source": [
    "#Bar graph\n",
    "#House costs and Migrtaion per state\n",
    "us_states_house_costs.plot(kind=\"bar\", figsize=(20,5))\n",
    "\n",
    "# Set a title for the chart\n",
    "plt.title(\"House Costs vs Migrations per State \")\n",
    "plt.tight_layout()\n",
    "plt.show()"
   ]
  },
  {
   "cell_type": "code",
   "execution_count": null,
   "id": "169689b4",
   "metadata": {},
   "outputs": [],
   "source": [
    "us_totals = us_totals_df[[\"Year\",\"Total Migrants per Year\",\"Mean Housing Cost per Year\"]]\n",
    "us_totals = us_totals.set_index(\"Year\")"
   ]
  },
  {
   "cell_type": "code",
   "execution_count": null,
   "id": "b4a355c8",
   "metadata": {},
   "outputs": [],
   "source": [
    "#Bar graph\n",
    "us_totals.plot(kind=\"line\",stacked=True)\n",
    "\n",
    "# Set a title for the chart\n",
    "plt.title(\"Total Migrations per year Vs  Housing Costs per year \")\n",
    "plt.tight_layout()\n",
    "plt.show()"
   ]
  },
  {
   "cell_type": "code",
   "execution_count": null,
   "id": "7cc1d082",
   "metadata": {},
   "outputs": [],
   "source": [
    "us_changes_df\n",
    "us_changes_df = us_changes_df.fillna(0)"
   ]
  },
  {
   "cell_type": "code",
   "execution_count": null,
   "id": "1e281a19",
   "metadata": {},
   "outputs": [],
   "source": [
    "# House Costs per year vs Migrations per year\n",
    "House_Costs_per_year = us_changes_df[\"Change in Houses Cost per Year\"]\n",
    "Migration_per_year = us_changes_df[\"Change in Migration per Year\"]\n"
   ]
  },
  {
   "cell_type": "code",
   "execution_count": null,
   "id": "fb41cf57",
   "metadata": {},
   "outputs": [],
   "source": [
    "#Scatter Plot and label's\n",
    "plt.scatter(House_Costs_per_year, Migration_per_year,  marker=\"o\", facecolors=\"red\", edgecolors=\"black\")\n",
    "plt.title(\"House Costs per year vs Migrations per year\")\n",
    "plt.xlabel(\"Change in Houses Cost per Year\")\n",
    "plt.ylabel(\"Change in Migration per Year\")\n",
    "#plt.savefig(\"../Images/Scattereplot.png\")\n",
    "plt.show()"
   ]
  },
  {
   "cell_type": "code",
   "execution_count": null,
   "id": "19877248",
   "metadata": {},
   "outputs": [],
   "source": [
    "# Calculate the correlation coefficient and linear regression model \n",
    "\n",
    "#correlation\n",
    "correlation = stats.pearsonr(House_Costs_per_year,Migration_per_year)\n",
    "print(f\"The correlation between both factors is {round(correlation[0],2)}\")"
   ]
  },
  {
   "cell_type": "code",
   "execution_count": null,
   "id": "28dec433",
   "metadata": {},
   "outputs": [],
   "source": [
    "#Linear regression\n",
    "(slope, intercept, rvalue, pvalue, stderr) = stats.linregress(House_Costs_per_year, Migration_per_year)\n",
    "regress_values = House_Costs_per_year * slope + intercept\n",
    "line_eq = \"y = \" + str(round(slope,2)) + \"x + \" + str(round(intercept,2))"
   ]
  },
  {
   "cell_type": "code",
   "execution_count": null,
   "id": "930d4b60",
   "metadata": {},
   "outputs": [],
   "source": [
    "#Scatter plot and label's \n",
    "plt.scatter(House_Costs_per_year,Migration_per_year)\n",
    "plt.plot(House_Costs_per_year,regress_values,\"r-\")\n",
    "plt.annotate(line_eq,(0,500000),fontsize=15,color=\"red\")\n",
    "plt.xlabel(\"Change in Houses Cost per Year\")\n",
    "plt.ylabel(\"Change in Migration per Year\")\n",
    "#plt.savefig(\"../Images/RegressionScattereplot.png\")\n",
    "plt.show()"
   ]
  },
  {
   "cell_type": "markdown",
   "id": "500b4a68",
   "metadata": {},
   "source": [
    "# Additional Analysis"
   ]
  },
  {
   "cell_type": "markdown",
   "id": "bc56c3df",
   "metadata": {},
   "source": [
    "## Top 10 and Bottom 10"
   ]
  },
  {
   "cell_type": "code",
   "execution_count": null,
   "id": "e77d7a28",
   "metadata": {},
   "outputs": [],
   "source": [
    "# We grabbed the two variables Migration and Housing Cost and sorted the data \n",
    "# in order of biggest to smallest rate of migration and average housing price.\n",
    "\n",
    "top_10_m = pd.DataFrame({ 'State' : total_df['State'] })"
   ]
  },
  {
   "cell_type": "code",
   "execution_count": null,
   "id": "19ada67f",
   "metadata": {},
   "outputs": [],
   "source": [
    "top_10_m = top_10_m.join(state_migration_rates[[\"2019 Percent Migration\",\"2010 Percent Migration\"]])\n",
    "top_10_m"
   ]
  },
  {
   "cell_type": "code",
   "execution_count": null,
   "id": "faddddc6",
   "metadata": {},
   "outputs": [],
   "source": [
    "#2010 vs #2019 Migration by state Plot\n",
    "#us_states_totals = Us_State[[\"State\",\"Total_Population_Per_State\",\"Total_Migration_Per_State\"]]\n",
    "start_end_decade = top_10_m.set_index(\"State\")"
   ]
  },
  {
   "cell_type": "code",
   "execution_count": null,
   "id": "527c65ba",
   "metadata": {},
   "outputs": [],
   "source": [
    "start_end_decade.plot(kind=\"bar\", figsize=(20,5))\n",
    "\n",
    "# Set a title for the chart\n",
    "plt.title(\"Percent change in Migrtaion per state for 2010 vs 2019 \")\n",
    "plt.tight_layout()\n",
    "plt.show()"
   ]
  },
  {
   "cell_type": "markdown",
   "id": "3362eaea",
   "metadata": {},
   "source": [
    "# Top 10 Migration"
   ]
  },
  {
   "cell_type": "code",
   "execution_count": null,
   "id": "d998df77",
   "metadata": {},
   "outputs": [],
   "source": [
    "top_10_m[\"total_change\"] = top_10_m[\"2019 Percent Migration\"] - top_10_m[\"2010 Percent Migration\"]\n"
   ]
  },
  {
   "cell_type": "code",
   "execution_count": null,
   "id": "8cb93096",
   "metadata": {},
   "outputs": [],
   "source": [
    "top_10_m.sort_values(by='total_change', ascending=False, inplace=True)\n",
    "top_10_m.head(10)"
   ]
  },
  {
   "cell_type": "markdown",
   "id": "83f89c5f",
   "metadata": {},
   "source": [
    "# Bottom 10 Migration "
   ]
  },
  {
   "cell_type": "code",
   "execution_count": null,
   "id": "7cb99201",
   "metadata": {},
   "outputs": [],
   "source": [
    "top_10_m.sort_values(by='total_change', inplace=True)\n",
    "top_10_m.head(10)"
   ]
  },
  {
   "cell_type": "code",
   "execution_count": null,
   "id": "ea7344bf",
   "metadata": {},
   "outputs": [],
   "source": [
    "top_10_h = pd.DataFrame({ 'State' : total_df['State'] })"
   ]
  },
  {
   "cell_type": "code",
   "execution_count": null,
   "id": "22943ef7",
   "metadata": {},
   "outputs": [],
   "source": [
    "top_10_h = top_10_h.join(state_housing_cost_changes[[\"2019 Percent Housing Cost Change\",\"2011 Percent Housing Cost Change\"]])\n",
    "top_10_h"
   ]
  },
  {
   "cell_type": "code",
   "execution_count": null,
   "id": "c371a7cb",
   "metadata": {},
   "outputs": [],
   "source": [
    "top_10_h[\"total_change\"] = top_10_h[\"2019 Percent Housing Cost Change\"] - top_10_h[\"2011 Percent Housing Cost Change\"]"
   ]
  },
  {
   "cell_type": "markdown",
   "id": "578f0360",
   "metadata": {},
   "source": [
    "# Top 10 Housing Price"
   ]
  },
  {
   "cell_type": "code",
   "execution_count": null,
   "id": "5005f316",
   "metadata": {},
   "outputs": [],
   "source": [
    "top_10_h.sort_values(by='total_change', ascending=False, inplace=True)\n",
    "top_10_h.head(10)"
   ]
  },
  {
   "cell_type": "markdown",
   "id": "d3839ee0",
   "metadata": {},
   "source": [
    "# Bottom 10 Housing Price"
   ]
  },
  {
   "cell_type": "code",
   "execution_count": null,
   "id": "98fc2eb3",
   "metadata": {
    "scrolled": true
   },
   "outputs": [],
   "source": [
    "top_10_h.sort_values(by='total_change', inplace=True)\n",
    "top_10_h.head(10)"
   ]
  },
  {
   "cell_type": "code",
   "execution_count": null,
   "id": "31db43f3",
   "metadata": {},
   "outputs": [],
   "source": []
  }
 ],
 "metadata": {
  "kernelspec": {
   "display_name": "Python 3 (ipykernel)",
   "language": "python",
   "name": "python3"
  },
  "language_info": {
   "codemirror_mode": {
    "name": "ipython",
    "version": 3
   },
   "file_extension": ".py",
   "mimetype": "text/x-python",
   "name": "python",
   "nbconvert_exporter": "python",
   "pygments_lexer": "ipython3",
   "version": "3.8.13"
  }
 },
 "nbformat": 4,
 "nbformat_minor": 5
}
