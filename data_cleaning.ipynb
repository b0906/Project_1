{
 "cells": [
  {
   "cell_type": "code",
   "execution_count": null,
   "id": "e7d59b68",
   "metadata": {},
   "outputs": [],
   "source": [
    "import pandas as pd\n",
    "import numpy as np"
   ]
  },
  {
   "cell_type": "code",
   "execution_count": null,
   "id": "dc05a925",
   "metadata": {},
   "outputs": [],
   "source": [
    "population_data_to_load = \"raw_data/population.csv\"\n",
    "number_house_data_to_load = \"raw_data/number_houing_units_state.xlsx\"\n",
    "value_housing_data_to_load = \"raw_data/single_family_housing_value_zillow.csv\"\n",
    "\n",
    "# Read population and housing Data File and store into Pandas DataFrames\n",
    "population_data = pd.read_csv(population_data_to_load)\n",
    "number_house_data = pd.read_excel(number_house_data_to_load)\n",
    "zillow_df = pd.read_csv(value_housing_data_to_load)"
   ]
  },
  {
   "cell_type": "code",
   "execution_count": null,
   "id": "9946047e",
   "metadata": {},
   "outputs": [],
   "source": [
    "population_data.head(20)"
   ]
  },
  {
   "cell_type": "code",
   "execution_count": null,
   "id": "d076ba23",
   "metadata": {},
   "outputs": [],
   "source": [
    "population_data.drop(['SUMLEV', 'REGION', 'DIVISION', 'STATE'], axis=1, inplace=True)\n",
    "#population_data.head()"
   ]
  },
  {
   "cell_type": "code",
   "execution_count": null,
   "id": "43b4252a",
   "metadata": {},
   "outputs": [],
   "source": [
    "population_data.columns"
   ]
  },
  {
   "cell_type": "code",
   "execution_count": null,
   "id": "d72d964c",
   "metadata": {},
   "outputs": [],
   "source": [
    "population_data.count()"
   ]
  },
  {
   "cell_type": "code",
   "execution_count": null,
   "id": "f3733f9a",
   "metadata": {},
   "outputs": [],
   "source": [
    "no_null_population_data = population_data.dropna(how='any')"
   ]
  },
  {
   "cell_type": "code",
   "execution_count": null,
   "id": "a72fdc51",
   "metadata": {},
   "outputs": [],
   "source": [
    "no_null_population_data.count()"
   ]
  },
  {
   "cell_type": "code",
   "execution_count": null,
   "id": "c604c65c",
   "metadata": {},
   "outputs": [],
   "source": [
    "no_null_population_data[\"NAME\"].value_counts()"
   ]
  },
  {
   "cell_type": "code",
   "execution_count": null,
   "id": "b83ce360",
   "metadata": {},
   "outputs": [],
   "source": [
    "# net migration per state\n",
    "net_state_migration = population_data[[\"NAME\",\"POPESTIMATE2010\",\"POPESTIMATE2011\",\"POPESTIMATE2012\"\n",
    "                                       ,\"POPESTIMATE2013\",\"POPESTIMATE2014\",\"POPESTIMATE2015\"\n",
    "                                       ,\"POPESTIMATE2016\",\"POPESTIMATE2017\",\"POPESTIMATE2018\"\n",
    "                                       ,\"POPESTIMATE2019\", \"NETMIG2010\", \"NETMIG2011\", \"NETMIG2012\", \n",
    "                                   \"NETMIG2013\", \"NETMIG2014\", \"NETMIG2015\", \n",
    "                                  \"NETMIG2016\", \"NETMIG2017\",\"NETMIG2018\",\"NETMIG2019\"]]\n",
    "net_state_migration.head(20)"
   ]
  },
  {
   "cell_type": "code",
   "execution_count": null,
   "id": "234e719b",
   "metadata": {},
   "outputs": [],
   "source": [
    "net_state_migration.drop([0, 1, 2, 3, 4, 56], inplace=True)"
   ]
  },
  {
   "cell_type": "code",
   "execution_count": null,
   "id": "6f69a5a3",
   "metadata": {},
   "outputs": [],
   "source": [
    "net_state_migration.reset_index(drop=True)"
   ]
  },
  {
   "cell_type": "code",
   "execution_count": null,
   "id": "c299cbd9",
   "metadata": {},
   "outputs": [],
   "source": [
    "state_migrate = net_state_migration.rename(columns = { \"NAME\" : \"State\" })\n",
    "state_migrate"
   ]
  },
  {
   "cell_type": "code",
   "execution_count": null,
   "id": "be1eeaca",
   "metadata": {},
   "outputs": [],
   "source": [
    "#number of house units\n",
    "number_house_data.head(70)"
   ]
  },
  {
   "cell_type": "code",
   "execution_count": null,
   "id": "57383618",
   "metadata": {},
   "outputs": [],
   "source": [
    "# Delete unwanted rows\n",
    "number_house_data.drop([0,1,2,3,4,5,6,7,59,60,61,62,63], axis=0, inplace=True)"
   ]
  },
  {
   "cell_type": "code",
   "execution_count": null,
   "id": "9ca4e904",
   "metadata": {
    "scrolled": true
   },
   "outputs": [],
   "source": [
    "# Delete unwanted columns\n",
    "number_house_data.drop(number_house_data.iloc[:, 1:3], axis=1, inplace=True)\n",
    "number_house_data"
   ]
  },
  {
   "cell_type": "code",
   "execution_count": null,
   "id": "804cd2f0",
   "metadata": {},
   "outputs": [],
   "source": [
    "# Rename to format for later use \n",
    "number_house_data.rename(columns={'table with row headers in column A and column headers in rows 3 through 4. (leading dots indicate sub-parts)' : 'State',\n",
    "                                 'Unnamed: 3' : 'HUESTIMATE2010','Unnamed: 4' : 'HUESTIMATE2011','Unnamed: 5' : 'HUESTIMATE2012','Unnamed: 6' : 'HUESTIMATE2013',\n",
    "                                 'Unnamed: 7' : 'HUESTIMATE2014','Unnamed: 8' : 'HUESTIMATE2015','Unnamed: 9' : 'HUESTIMATE2016','Unnamed: 10' : 'HUESTIMATE2017',\n",
    "                                 'Unnamed: 11' : 'HUESTIMATE2018','Unnamed: 12' : 'HUESTIMATE2019',}, inplace=True)\n",
    "number_house_data.head()"
   ]
  },
  {
   "cell_type": "code",
   "execution_count": null,
   "id": "7fe44808",
   "metadata": {},
   "outputs": [],
   "source": [
    "# Removing the leading '.' in the state names\n",
    "number_house_data['State'] = number_house_data['State'].str[1:]"
   ]
  },
  {
   "cell_type": "code",
   "execution_count": null,
   "id": "940be95c",
   "metadata": {},
   "outputs": [],
   "source": [
    "number_house_data.head()"
   ]
  },
  {
   "cell_type": "code",
   "execution_count": null,
   "id": "971837ae",
   "metadata": {
    "scrolled": true
   },
   "outputs": [],
   "source": [
    "number_house_data.reset_index(drop=True)"
   ]
  },
  {
   "cell_type": "code",
   "execution_count": null,
   "id": "87972bc9",
   "metadata": {},
   "outputs": [],
   "source": [
    "zillow_df.head()"
   ]
  },
  {
   "cell_type": "code",
   "execution_count": null,
   "id": "c28bf687",
   "metadata": {},
   "outputs": [],
   "source": [
    "# We want to use State for final merge\n",
    "zillow_df.rename(columns={'RegionName' : 'State'}, inplace=True)"
   ]
  },
  {
   "cell_type": "code",
   "execution_count": null,
   "id": "0c087bc8",
   "metadata": {},
   "outputs": [],
   "source": [
    "# Remove columns near State so that we have only State followed by the monthly data\n",
    "zillow_df.drop(columns=['RegionID', 'SizeRank', 'RegionType', 'StateName'], inplace=True)"
   ]
  },
  {
   "cell_type": "code",
   "execution_count": null,
   "id": "d71603e7",
   "metadata": {},
   "outputs": [],
   "source": [
    "# Create variable to store drop index list\n",
    "years_to_drop = []"
   ]
  },
  {
   "cell_type": "code",
   "execution_count": null,
   "id": "71f3b572",
   "metadata": {},
   "outputs": [],
   "source": [
    "# Create a list of index values for columns we want to remove:  Start at 1 to skip State then start after 10 years 12*10 =120\n",
    "# Keep going until it reaches the end of the dataframe\n",
    "for i in range(1,len(zillow_df.columns)):\n",
    "    if (i < 121)|(i > 240): #keeping the second group of 12 * 10 months\n",
    "        years_to_drop.append(i)"
   ]
  },
  {
   "cell_type": "code",
   "execution_count": null,
   "id": "c813bb30",
   "metadata": {},
   "outputs": [],
   "source": [
    "#Delete all the unwanted columns from the list\n",
    "zillow_df.drop(zillow_df.columns[years_to_drop], axis=1, inplace=True)"
   ]
  },
  {
   "cell_type": "code",
   "execution_count": null,
   "id": "257c421c",
   "metadata": {},
   "outputs": [],
   "source": [
    "# See how many empty or nan cells there are\n",
    "zillow_df.isnull().sum().sum()"
   ]
  },
  {
   "cell_type": "code",
   "execution_count": null,
   "id": "53a66514",
   "metadata": {},
   "outputs": [],
   "source": [
    "#Create a new dataframe to hold the annual average housing cost starting with State\n",
    "annual_average_cost_df = pd.DataFrame().assign(State = zillow_df['State'])\n",
    "annual_average_cost_df"
   ]
  },
  {
   "cell_type": "code",
   "execution_count": null,
   "id": "91067dac",
   "metadata": {},
   "outputs": [],
   "source": [
    "# Populate new dataframe with the row average over a year using nanmean to average around the invalid cells.  Using indexes to avoid the column names.\n",
    "ys = 0\n",
    "for year in range(10,20):\n",
    "    annual_average_cost_df[f'20{year} Mean Housing'] =  np.nanmean(zillow_df.iloc[:,[1 + ys,2 + ys,3 + ys,4 + ys,5 + ys,6 + ys,7 + ys,8 + ys,9 + ys,10 + ys,11 + ys,12 + ys]], axis=1)\n",
    "    ys += 12"
   ]
  },
  {
   "cell_type": "code",
   "execution_count": null,
   "id": "d2218bfa",
   "metadata": {},
   "outputs": [],
   "source": [
    "annual_average_cost_df"
   ]
  },
  {
   "cell_type": "code",
   "execution_count": null,
   "id": "41c35664",
   "metadata": {},
   "outputs": [],
   "source": [
    "net_state_migration"
   ]
  },
  {
   "cell_type": "code",
   "execution_count": null,
   "id": "b069045f",
   "metadata": {},
   "outputs": [],
   "source": [
    "merged_data_frame = pd.merge(state_migrate, number_house_data, how='left', on=['State','State'] ) "
   ]
  },
  {
   "cell_type": "code",
   "execution_count": null,
   "id": "2434826e",
   "metadata": {},
   "outputs": [],
   "source": [
    "merged_data_frame"
   ]
  },
  {
   "cell_type": "code",
   "execution_count": null,
   "id": "4c75a6fc",
   "metadata": {},
   "outputs": [],
   "source": [
    "merged_data = pd.merge(merged_data_frame, annual_average_cost_df, how='left', on=['State','State'] ) \n",
    "merged_data"
   ]
  },
  {
   "cell_type": "code",
   "execution_count": null,
   "id": "2ceb67fd",
   "metadata": {},
   "outputs": [],
   "source": [
    "merged_data.to_csv(\"Resources/final_data.csv\")"
   ]
  },
  {
   "cell_type": "code",
   "execution_count": null,
   "id": "8a2f9443",
   "metadata": {},
   "outputs": [],
   "source": []
  }
 ],
 "metadata": {
  "kernelspec": {
   "display_name": "Python 3 (ipykernel)",
   "language": "python",
   "name": "python3"
  },
  "language_info": {
   "codemirror_mode": {
    "name": "ipython",
    "version": 3
   },
   "file_extension": ".py",
   "mimetype": "text/x-python",
   "name": "python",
   "nbconvert_exporter": "python",
   "pygments_lexer": "ipython3",
   "version": "3.8.13"
  }
 },
 "nbformat": 4,
 "nbformat_minor": 5
}
